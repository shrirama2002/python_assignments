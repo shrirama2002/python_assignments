{
 "cells": [
  {
   "cell_type": "markdown",
   "id": "89a543a1",
   "metadata": {},
   "source": [
    "Q1. Create one variable containing following type of data:\n",
    "(i) string\n",
    "(ii) list\n",
    "(iii) float\n",
    "(iv) tuple"
   ]
  },
  {
   "cell_type": "code",
   "execution_count": 1,
   "id": "8cdc65c4",
   "metadata": {},
   "outputs": [],
   "source": [
    "str1 = \"string1\"\n",
    "list1 = list(range(6))\n",
    "float1 = 3.14\n",
    "tup1 = tuple(range(5))"
   ]
  },
  {
   "cell_type": "markdown",
   "id": "13b2b9b2",
   "metadata": {},
   "source": [
    "Q2. Given are some following variables containing data:\n",
    "(i) var1 = ‘ ‘\n",
    "(ii) var2 = ‘[ DS , ML , Python]’\n",
    "(iii) var3 = [ ‘DS’ , ’ML’ , ‘Python’ ]\n",
    "(iv) var4 = 1.\n",
    "What will be the data type of the above given variable."
   ]
  },
  {
   "cell_type": "code",
   "execution_count": 20,
   "id": "23b3d8fc",
   "metadata": {},
   "outputs": [],
   "source": [
    "var1 = '' #str\n",
    "var2 = '[ DS , ML , Python]' #str\n",
    "var3 = [ 'DS' , 'ML' , 'Python' ] #list\n",
    "var4 = 1. #float"
   ]
  },
  {
   "cell_type": "markdown",
   "id": "34087e37",
   "metadata": {},
   "source": [
    "Q3. Explain the use of the following operators using an example:\n",
    "(i) /\n",
    "(ii) %\n",
    "(iii) //\n",
    "(iv) **"
   ]
  },
  {
   "cell_type": "code",
   "execution_count": 22,
   "id": "0c9fcb2c",
   "metadata": {},
   "outputs": [
    {
     "data": {
      "text/plain": [
       "2.0"
      ]
     },
     "execution_count": 22,
     "metadata": {},
     "output_type": "execute_result"
    }
   ],
   "source": [
    "a = 20\n",
    "b = 10\n",
    "c = 2\n",
    "# '/' used for division\n",
    "sol1 = a/b\n",
    "sol1"
   ]
  },
  {
   "cell_type": "code",
   "execution_count": 29,
   "id": "050d4268",
   "metadata": {},
   "outputs": [
    {
     "data": {
      "text/plain": [
       "0"
      ]
     },
     "execution_count": 29,
     "metadata": {},
     "output_type": "execute_result"
    }
   ],
   "source": [
    "# '%' used for finding remainder (modulus)\n",
    "sol2 = a % b\n",
    "sol2"
   ]
  },
  {
   "cell_type": "code",
   "execution_count": 30,
   "id": "a37da159",
   "metadata": {},
   "outputs": [
    {
     "data": {
      "text/plain": [
       "2"
      ]
     },
     "execution_count": 30,
     "metadata": {},
     "output_type": "execute_result"
    }
   ],
   "source": [
    "# '//' used for floor division\n",
    "sol3 = a // b\n",
    "sol3"
   ]
  },
  {
   "cell_type": "code",
   "execution_count": 31,
   "id": "cc6ad65e",
   "metadata": {},
   "outputs": [
    {
     "data": {
      "text/plain": [
       "400"
      ]
     },
     "execution_count": 31,
     "metadata": {},
     "output_type": "execute_result"
    }
   ],
   "source": [
    "# '**' used for finding power of a number\n",
    "sol4 = a**c\n",
    "sol4"
   ]
  },
  {
   "cell_type": "markdown",
   "id": "17c5671e",
   "metadata": {},
   "source": [
    "Q4. Create a list of length 10 of your choice containing multiple types of data. Using for loop print the\n",
    "element and its data type."
   ]
  },
  {
   "cell_type": "code",
   "execution_count": 38,
   "id": "7a0cb31a",
   "metadata": {},
   "outputs": [
    {
     "name": "stdout",
     "output_type": "stream",
     "text": [
      " 1 is of type <class 'int'> \n",
      " 2 is of type <class 'int'> \n",
      " 3 is of type <class 'int'> \n",
      " 4 is of type <class 'int'> \n",
      " abc is of type <class 'str'> \n",
      " xyz is of type <class 'str'> \n",
      " (4+7j) is of type <class 'complex'> \n",
      " [5, 6, 7] is of type <class 'list'> \n",
      " p is of type <class 'str'> \n",
      " 10 is of type <class 'int'> \n"
     ]
    }
   ],
   "source": [
    "list1 = [1,2,3,4,'abc',\"xyz\",4+7j,[5,6,7],\"p\",10]\n",
    "for i in list1 :\n",
    "    print(\" {} is of type {} \".format(i,type(i)))"
   ]
  },
  {
   "cell_type": "markdown",
   "id": "aa615dab",
   "metadata": {},
   "source": [
    "Q5. Using a while loop, verify if the number A is purely divisible by number B and if so then how many\n",
    "times it can be divisible."
   ]
  },
  {
   "cell_type": "code",
   "execution_count": 43,
   "id": "8b2a391a",
   "metadata": {},
   "outputs": [
    {
     "name": "stdout",
     "output_type": "stream",
     "text": [
      "Enter value of A= 8\n",
      "Enter value of B= 2\n",
      "A can be divided 4 times by B\n"
     ]
    }
   ],
   "source": [
    "i = True\n",
    "while i == True :\n",
    "    a = int(input(\"Enter value of A= \"))\n",
    "    b = int(input(\"Enter value of B= \"))\n",
    "    if a % b == 0 :\n",
    "        print(\"A can be divided {} times by B\".format(a//b))\n",
    "        i = False\n",
    "    else:\n",
    "        print(\"A is not purely divisible by B\")\n",
    "        continue"
   ]
  },
  {
   "cell_type": "markdown",
   "id": "3f4cfe45",
   "metadata": {},
   "source": [
    "Q6. Create a list containing 25 int type data. Using for loop and if-else condition print if the element is\n",
    "divisible by 3 or not."
   ]
  },
  {
   "cell_type": "code",
   "execution_count": 48,
   "id": "5172d3ea",
   "metadata": {},
   "outputs": [
    {
     "name": "stdout",
     "output_type": "stream",
     "text": [
      " 1 is not divisible by 3\n",
      " 2 is not divisible by 3\n",
      " 3 is divisible by 3\n",
      " 4 is not divisible by 3\n",
      " 5 is not divisible by 3\n",
      " 6 is divisible by 3\n",
      " 7 is not divisible by 3\n",
      " 8 is not divisible by 3\n",
      " 9 is divisible by 3\n",
      " 10 is not divisible by 3\n",
      " 11 is not divisible by 3\n",
      " 12 is divisible by 3\n",
      " 13 is not divisible by 3\n",
      " 14 is not divisible by 3\n",
      " 15 is divisible by 3\n",
      " 16 is not divisible by 3\n",
      " 17 is not divisible by 3\n",
      " 18 is divisible by 3\n",
      " 19 is not divisible by 3\n",
      " 20 is not divisible by 3\n",
      " 21 is divisible by 3\n",
      " 22 is not divisible by 3\n",
      " 23 is not divisible by 3\n",
      " 24 is divisible by 3\n",
      " 25 is not divisible by 3\n"
     ]
    }
   ],
   "source": [
    "list2 = list(range(1,26))\n",
    "for i in list2 :\n",
    "    if i % 3 == 0:\n",
    "        print(\" {} is divisible by 3\".format(i))\n",
    "    else:\n",
    "        print(\" {} is not divisible by 3\".format(i))"
   ]
  },
  {
   "cell_type": "markdown",
   "id": "86a159ae",
   "metadata": {},
   "source": [
    "Q7.What do you understand about mutable and immutable data types? Give examples for both showing\n",
    "this property."
   ]
  },
  {
   "cell_type": "code",
   "execution_count": 51,
   "id": "16d939cc",
   "metadata": {},
   "outputs": [
    {
     "data": {
      "text/plain": [
       "[1, 2, 8, 3, 4, 'python']"
      ]
     },
     "execution_count": 51,
     "metadata": {},
     "output_type": "execute_result"
    }
   ],
   "source": [
    "# mutable\n",
    "\"\"\"we can change or modify or assign parts of a data without modifying the entire \n",
    "data present in the variable \"\"\"\n",
    "# example: consider a list\n",
    "list1 = [1,2,5,3,4,\"python\"]\n",
    "list1[2] = 8\n",
    "list1\n",
    "\n"
   ]
  },
  {
   "cell_type": "code",
   "execution_count": 54,
   "id": "949018d2",
   "metadata": {},
   "outputs": [
    {
     "data": {
      "text/plain": [
       "'python'"
      ]
     },
     "execution_count": 54,
     "metadata": {},
     "output_type": "execute_result"
    }
   ],
   "source": [
    "# immutable\n",
    "\"\"\"we can not change or modify or assign parts of a data without modifying the entire \n",
    "data present in the variable \"\"\"\n",
    "# example: consider a string\n",
    "str10 = \"pythan\"\n",
    "#str10[4] = \"o\" # which will throw error as string is immutable\n",
    "str10 = \"python\" # this assignment is possible\n",
    "str10 "
   ]
  },
  {
   "cell_type": "code",
   "execution_count": null,
   "id": "6555f65e",
   "metadata": {},
   "outputs": [],
   "source": []
  }
 ],
 "metadata": {
  "kernelspec": {
   "display_name": "Python 3 (ipykernel)",
   "language": "python",
   "name": "python3"
  },
  "language_info": {
   "codemirror_mode": {
    "name": "ipython",
    "version": 3
   },
   "file_extension": ".py",
   "mimetype": "text/x-python",
   "name": "python",
   "nbconvert_exporter": "python",
   "pygments_lexer": "ipython3",
   "version": "3.9.12"
  }
 },
 "nbformat": 4,
 "nbformat_minor": 5
}
